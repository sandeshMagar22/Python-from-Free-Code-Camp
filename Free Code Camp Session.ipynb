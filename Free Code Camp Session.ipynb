{
 "cells": [
  {
   "cell_type": "markdown",
   "id": "1ff6b9e7",
   "metadata": {},
   "source": [
    "## Variables"
   ]
  },
  {
   "cell_type": "code",
   "execution_count": 1,
   "id": "a9ea1015",
   "metadata": {},
   "outputs": [],
   "source": [
    "a =3"
   ]
  },
  {
   "cell_type": "code",
   "execution_count": 2,
   "id": "317ea6f7",
   "metadata": {},
   "outputs": [
    {
     "name": "stdout",
     "output_type": "stream",
     "text": [
      "Variable   Type    Data/Info\n",
      "----------------------------\n",
      "a          int     3\n"
     ]
    }
   ],
   "source": [
    "%whos"
   ]
  },
  {
   "cell_type": "code",
   "execution_count": 3,
   "id": "6dd7e120",
   "metadata": {},
   "outputs": [
    {
     "name": "stdout",
     "output_type": "stream",
     "text": [
      "<class 'int'>\n"
     ]
    }
   ],
   "source": [
    "print(type(a)) #kun type bhanney jaanuncha"
   ]
  },
  {
   "cell_type": "code",
   "execution_count": 4,
   "id": "df074c36",
   "metadata": {},
   "outputs": [],
   "source": [
    "b = 5"
   ]
  },
  {
   "cell_type": "code",
   "execution_count": 5,
   "id": "ecb0f86b",
   "metadata": {},
   "outputs": [],
   "source": [
    "sumofaAndb = a+b"
   ]
  },
  {
   "cell_type": "code",
   "execution_count": 6,
   "id": "d5640b40",
   "metadata": {},
   "outputs": [
    {
     "name": "stdout",
     "output_type": "stream",
     "text": [
      "8\n"
     ]
    }
   ],
   "source": [
    "print(sumofaAndb)"
   ]
  },
  {
   "cell_type": "code",
   "execution_count": 7,
   "id": "36433084",
   "metadata": {},
   "outputs": [
    {
     "name": "stdout",
     "output_type": "stream",
     "text": [
      "4\n"
     ]
    }
   ],
   "source": [
    "#for round off\n",
    "print(round(3.9999998))\n"
   ]
  },
  {
   "cell_type": "code",
   "execution_count": 8,
   "id": "a10622fe",
   "metadata": {},
   "outputs": [
    {
     "name": "stdout",
     "output_type": "stream",
     "text": [
      "4.57\n"
     ]
    }
   ],
   "source": [
    "print(round(4.56789,2))"
   ]
  },
  {
   "cell_type": "code",
   "execution_count": 9,
   "id": "760faa7f",
   "metadata": {},
   "outputs": [
    {
     "data": {
      "text/plain": [
       "(3, 7)"
      ]
     },
     "execution_count": 9,
     "metadata": {},
     "output_type": "execute_result"
    }
   ],
   "source": [
    "divmod(34,9)  #3 is quotient and 7 is remainder and its type is a tuple"
   ]
  },
  {
   "cell_type": "markdown",
   "id": "4e694451",
   "metadata": {},
   "source": [
    "# Instances"
   ]
  },
  {
   "cell_type": "code",
   "execution_count": 10,
   "id": "c0f6d2ca",
   "metadata": {},
   "outputs": [
    {
     "name": "stdout",
     "output_type": "stream",
     "text": [
      "True\n"
     ]
    }
   ],
   "source": [
    "print(isinstance(1,int)) #To check the particular data type"
   ]
  },
  {
   "cell_type": "code",
   "execution_count": 11,
   "id": "bdf85ea7",
   "metadata": {},
   "outputs": [
    {
     "data": {
      "text/plain": [
       "True"
      ]
     },
     "execution_count": 11,
     "metadata": {},
     "output_type": "execute_result"
    }
   ],
   "source": [
    "isinstance(1.5,float)"
   ]
  },
  {
   "cell_type": "code",
   "execution_count": 12,
   "id": "f25ce4e9",
   "metadata": {},
   "outputs": [
    {
     "data": {
      "text/plain": [
       "True"
      ]
     },
     "execution_count": 12,
     "metadata": {},
     "output_type": "execute_result"
    }
   ],
   "source": [
    "isinstance(2.5,(float,int))"
   ]
  },
  {
   "cell_type": "code",
   "execution_count": 13,
   "id": "bc08dd43",
   "metadata": {},
   "outputs": [
    {
     "name": "stdout",
     "output_type": "stream",
     "text": [
      "16 16\n"
     ]
    }
   ],
   "source": [
    "#Inorder to use Power We Use ** or pow(a,b)\n",
    "a= pow(2,4)\n",
    "b= 2**4\n",
    "print(a,b)"
   ]
  },
  {
   "cell_type": "code",
   "execution_count": 14,
   "id": "fd191a85",
   "metadata": {},
   "outputs": [
    {
     "name": "stdout",
     "output_type": "stream",
     "text": [
      "Enter any number2\n"
     ]
    }
   ],
   "source": [
    "x = input(\"Enter any number\")"
   ]
  },
  {
   "cell_type": "code",
   "execution_count": 15,
   "id": "56d5e021",
   "metadata": {},
   "outputs": [
    {
     "name": "stdout",
     "output_type": "stream",
     "text": [
      "2\n"
     ]
    }
   ],
   "source": [
    "print(x)"
   ]
  },
  {
   "cell_type": "code",
   "execution_count": 16,
   "id": "6aceb784",
   "metadata": {},
   "outputs": [
    {
     "name": "stdout",
     "output_type": "stream",
     "text": [
      "4\n",
      "5\n",
      "They are not equal\n"
     ]
    }
   ],
   "source": [
    "a = int(input())\n",
    "b = int(input())\n",
    "if a==b :\n",
    "    print(\"They are equal\")\n",
    "else:\n",
    "    print(\"They are not equal\")"
   ]
  },
  {
   "cell_type": "code",
   "execution_count": 17,
   "id": "8421e277",
   "metadata": {},
   "outputs": [
    {
     "name": "stdout",
     "output_type": "stream",
     "text": [
      "2\n",
      "1\n",
      "THis is the iteration Number : 1\n",
      "Loops is done \n"
     ]
    }
   ],
   "source": [
    "#Control Flow (Loops)\n",
    "n = int(input())\n",
    "i = 1\n",
    "while (i<n):  #As long as i is small than n keep doing the following\n",
    "    print(i**2)\n",
    "    print(\"THis is the iteration Number :\", i )\n",
    "    i+=1  #i = i+1\n",
    "print(\"Loops is done \")"
   ]
  },
  {
   "cell_type": "code",
   "execution_count": 18,
   "id": "93b408d8",
   "metadata": {},
   "outputs": [
    {
     "name": "stdout",
     "output_type": "stream",
     "text": [
      "Inside Else\n",
      "Inside Else\n",
      "Inside Else\n",
      "Inside Else\n",
      "Inside Else\n",
      "Inside Else\n",
      "Inside Else\n",
      "Inside Else\n",
      "Inside if\n",
      "done\n"
     ]
    }
   ],
   "source": [
    "n = 10\n",
    "i = 1\n",
    "while True:\n",
    "    if i%9 ==0:\n",
    "        print(\"Inside if\")\n",
    "        break\n",
    "    else: \n",
    "        print(\"Inside Else\")\n",
    "        i = i+1 \n",
    "print(\"done\")"
   ]
  },
  {
   "cell_type": "code",
   "execution_count": 19,
   "id": "397d0007",
   "metadata": {},
   "outputs": [
    {
     "name": "stdout",
     "output_type": "stream",
     "text": [
      "1\n",
      "2\n",
      "3\n",
      "4\n",
      "5\n",
      "6\n",
      "7\n",
      "8\n",
      "9\n",
      "10\n",
      "[0, 1, 4, 9, 16, 25, 36, 49, 64, 81]\n"
     ]
    }
   ],
   "source": [
    "L = []\n",
    "for i in range(10):\n",
    "    print(i+1)\n",
    "    l=L.append(i**2)\n",
    "print(L)"
   ]
  },
  {
   "cell_type": "code",
   "execution_count": 20,
   "id": "a95578a1",
   "metadata": {},
   "outputs": [
    {
     "name": "stdout",
     "output_type": "stream",
     "text": [
      "[-5, 1, 2, 2, 3, 4, 7, 8, 9]\n"
     ]
    }
   ],
   "source": [
    "\"\"\"\n",
    "Given a list of numbers i.e. [1,2,4,-5,8,7,9,3,2], make another list that contains all the items \n",
    "in sorted order from min to maximum i.e. Result will be another list like\n",
    "[-5,1,2,2,3,4,7,9]\n",
    "\"\"\"\n",
    "L = [1,2,4,-5,8,7,9,3,2]\n",
    "for j in range(len(L)):\n",
    "    idx = j\n",
    "    m = L[j]\n",
    "    c = j\n",
    "    for i in range(j,len(L)):\n",
    "        if L[i] < m :\n",
    "            m = L[i]\n",
    "            idx =c\n",
    "        c+=1\n",
    "    tmp = L[j]\n",
    "    L[j] = m\n",
    "    L[idx]=tmp\n",
    "print(L)"
   ]
  },
  {
   "cell_type": "code",
   "execution_count": 21,
   "id": "47c8998b",
   "metadata": {},
   "outputs": [],
   "source": [
    "#Functions\n",
    "def printSuccess():\n",
    "    print(\"I am done\")\n",
    "    print(\"Send me another Task\")"
   ]
  },
  {
   "cell_type": "code",
   "execution_count": 22,
   "id": "c6b57f67",
   "metadata": {},
   "outputs": [
    {
     "name": "stdout",
     "output_type": "stream",
     "text": [
      "I am done\n",
      "Send me another Task\n"
     ]
    }
   ],
   "source": [
    "printSuccess()"
   ]
  },
  {
   "cell_type": "code",
   "execution_count": 23,
   "id": "d1d314f1",
   "metadata": {},
   "outputs": [],
   "source": [
    "#Function (input Argument)\n",
    "def printMessage(msg):\n",
    "    if isinstance(msg,str):\n",
    "        print(msg)\n",
    "    else:\n",
    "        print(\"Your inp arg is not string\")\n",
    "        print(\"you supplied\", type(msg))"
   ]
  },
  {
   "cell_type": "code",
   "execution_count": 24,
   "id": "9b6e077f",
   "metadata": {},
   "outputs": [
    {
     "name": "stdout",
     "output_type": "stream",
     "text": [
      "Hello World\n"
     ]
    }
   ],
   "source": [
    "printMessage(\"Hello World\")"
   ]
  },
  {
   "cell_type": "code",
   "execution_count": 25,
   "id": "5e53cc8d",
   "metadata": {},
   "outputs": [],
   "source": [
    "def myadd(a,b):\n",
    "    sumValue = a+b\n",
    "    return sumValue"
   ]
  },
  {
   "cell_type": "code",
   "execution_count": 26,
   "id": "2fe4e675",
   "metadata": {},
   "outputs": [
    {
     "name": "stdout",
     "output_type": "stream",
     "text": [
      "5\n"
     ]
    }
   ],
   "source": [
    "dresult = myadd(2,3)\n",
    "print(dresult)"
   ]
  },
  {
   "cell_type": "markdown",
   "id": "37a760be",
   "metadata": {},
   "source": [
    "## Data Structures"
   ]
  },
  {
   "cell_type": "code",
   "execution_count": 27,
   "id": "9521b5d2",
   "metadata": {},
   "outputs": [],
   "source": [
    "L=[1,3,4.9,\"name\",3]\n",
    "T=(1,3,4.9,\"name\",3)\n",
    "S={1,3,4.9,\"name\",3}\n",
    "D = {23:\"twothree\",'B':43,'C':'CCD'}"
   ]
  },
  {
   "cell_type": "code",
   "execution_count": 28,
   "id": "035d4fa8",
   "metadata": {},
   "outputs": [
    {
     "name": "stdout",
     "output_type": "stream",
     "text": [
      "<class 'dict'>\n"
     ]
    }
   ],
   "source": [
    "print(type(D))"
   ]
  },
  {
   "cell_type": "code",
   "execution_count": 29,
   "id": "435f0751",
   "metadata": {},
   "outputs": [],
   "source": [
    "\"\"\"\n",
    "lets say there is marks and subjects and name of different students \n",
    "if you need all their averages then How would You do ??\n",
    "\"\"\"\n",
    "def getDataFromUser():\n",
    "    D = {}\n",
    "    while True:\n",
    "        studentId = Input(\"Enter Student ID: \")\n",
    "        marksList = input(\"Enter the marks by commaa seperated values :\")\n",
    "        moreStudents = input(\"Enter 'no' ato quit\")\n",
    "        if studentIf in D:\n",
    "            print(studentId, \"is already Inserted\")\n",
    "        else:\n",
    "            D[studentId] = marksList.split(\",\")\n",
    "        if moreStudent.lower() == \"no\":\n",
    "            return D\n",
    "        "
   ]
  },
  {
   "cell_type": "code",
   "execution_count": 30,
   "id": "37cdc6f3",
   "metadata": {},
   "outputs": [
    {
     "ename": "NameError",
     "evalue": "name 'Input' is not defined",
     "output_type": "error",
     "traceback": [
      "\u001b[1;31m---------------------------------------------------------------------------\u001b[0m",
      "\u001b[1;31mNameError\u001b[0m                                 Traceback (most recent call last)",
      "Cell \u001b[1;32mIn [30], line 1\u001b[0m\n\u001b[1;32m----> 1\u001b[0m studentData \u001b[38;5;241m=\u001b[39m \u001b[43mgetDataFromUser\u001b[49m\u001b[43m(\u001b[49m\u001b[43m)\u001b[49m\n",
      "Cell \u001b[1;32mIn [29], line 8\u001b[0m, in \u001b[0;36mgetDataFromUser\u001b[1;34m()\u001b[0m\n\u001b[0;32m      6\u001b[0m D \u001b[38;5;241m=\u001b[39m {}\n\u001b[0;32m      7\u001b[0m \u001b[38;5;28;01mwhile\u001b[39;00m \u001b[38;5;28;01mTrue\u001b[39;00m:\n\u001b[1;32m----> 8\u001b[0m     studentId \u001b[38;5;241m=\u001b[39m \u001b[43mInput\u001b[49m(\u001b[38;5;124m\"\u001b[39m\u001b[38;5;124mEnter Student ID: \u001b[39m\u001b[38;5;124m\"\u001b[39m)\n\u001b[0;32m      9\u001b[0m     marksList \u001b[38;5;241m=\u001b[39m \u001b[38;5;28minput\u001b[39m(\u001b[38;5;124m\"\u001b[39m\u001b[38;5;124mEnter the marks by commaa seperated values :\u001b[39m\u001b[38;5;124m\"\u001b[39m)\n\u001b[0;32m     10\u001b[0m     moreStudents \u001b[38;5;241m=\u001b[39m \u001b[38;5;28minput\u001b[39m(\u001b[38;5;124m\"\u001b[39m\u001b[38;5;124mEnter \u001b[39m\u001b[38;5;124m'\u001b[39m\u001b[38;5;124mno\u001b[39m\u001b[38;5;124m'\u001b[39m\u001b[38;5;124m ato quit\u001b[39m\u001b[38;5;124m\"\u001b[39m)\n",
      "\u001b[1;31mNameError\u001b[0m: name 'Input' is not defined"
     ]
    }
   ],
   "source": [
    "studentData = getDataFromUser()"
   ]
  }
 ],
 "metadata": {
  "kernelspec": {
   "display_name": "Python 3 (ipykernel)",
   "language": "python",
   "name": "python3"
  },
  "language_info": {
   "codemirror_mode": {
    "name": "ipython",
    "version": 3
   },
   "file_extension": ".py",
   "mimetype": "text/x-python",
   "name": "python",
   "nbconvert_exporter": "python",
   "pygments_lexer": "ipython3",
   "version": "3.11.0"
  }
 },
 "nbformat": 4,
 "nbformat_minor": 5
}
