{
 "cells": [
  {
   "cell_type": "markdown",
   "id": "992b9d10",
   "metadata": {},
   "source": [
    "# Numpy"
   ]
  },
  {
   "cell_type": "code",
   "execution_count": 2,
   "id": "864f7c19",
   "metadata": {},
   "outputs": [],
   "source": [
    "import numpy as np"
   ]
  },
  {
   "cell_type": "code",
   "execution_count": 5,
   "id": "a35e9801",
   "metadata": {},
   "outputs": [
    {
     "name": "stdout",
     "output_type": "stream",
     "text": [
      "[1 2 5 6 9]\n",
      "[2 5 4 6 8]\n"
     ]
    }
   ],
   "source": [
    "a = np.array([1,2,5,6,9])\n",
    "b = np.array([2,5,4,6,8])\n",
    "print(a)\n",
    "print(b)"
   ]
  },
  {
   "cell_type": "code",
   "execution_count": 7,
   "id": "c5c65328",
   "metadata": {},
   "outputs": [
    {
     "data": {
      "text/plain": [
       "numpy.ndarray"
      ]
     },
     "execution_count": 7,
     "metadata": {},
     "output_type": "execute_result"
    }
   ],
   "source": [
    "type(a)"
   ]
  },
  {
   "cell_type": "code",
   "execution_count": 10,
   "id": "85b00005",
   "metadata": {},
   "outputs": [
    {
     "data": {
      "text/plain": [
       "dtype('int32')"
      ]
     },
     "execution_count": 10,
     "metadata": {},
     "output_type": "execute_result"
    }
   ],
   "source": [
    "a.dtype"
   ]
  },
  {
   "cell_type": "code",
   "execution_count": 18,
   "id": "2fb62216",
   "metadata": {},
   "outputs": [
    {
     "name": "stdout",
     "output_type": "stream",
     "text": [
      "2\n",
      "3\n"
     ]
    }
   ],
   "source": [
    "#Numpy DImension\n",
    "a = np.array([[1,2,3],[4,5,6]])\n",
    "print(a.ndim)     #kati ota dimension array bhanney barey\n",
    "\n",
    "b = np.array([[[1,2,3],[4,5,6],[1,2,3],[4,5,6]]])\n",
    "print(b.ndim)\n",
    "\n",
    "\n",
    "\n",
    "    "
   ]
  },
  {
   "cell_type": "code",
   "execution_count": 22,
   "id": "74216c03",
   "metadata": {},
   "outputs": [
    {
     "name": "stdout",
     "output_type": "stream",
     "text": [
      "[ 0  1  2  3  4  5  6  7  8  9 10 11 12 13 14 15 16 17 18 19 20 21 22 23\n",
      " 24 25 26 27 28 29 30 31 32 33 34 35 36 37 38 39 40 41 42 43 44 45 46 47\n",
      " 48 49 50 51 52 53 54 55 56 57 58 59 60 61 62 63 64 65 66 67 68 69 70 71\n",
      " 72 73 74 75 76 77 78 79 80 81 82 83 84 85 86 87 88 89 90 91 92 93 94 95\n",
      " 96 97 98 99]\n"
     ]
    }
   ],
   "source": [
    "A = np.arange(100)\n",
    "print(A)"
   ]
  },
  {
   "cell_type": "code",
   "execution_count": 25,
   "id": "5be65eb6",
   "metadata": {},
   "outputs": [
    {
     "name": "stdout",
     "output_type": "stream",
     "text": [
      "[7 9 6 8 3 2 4 1 5 0]\n"
     ]
    }
   ],
   "source": [
    "A = np.random.permutation(np.arange(10))  #WIll return an array that returns 0-9 in diiferent way\n",
    "print(A)\n"
   ]
  },
  {
   "cell_type": "code",
   "execution_count": 29,
   "id": "9c1cc95d",
   "metadata": {},
   "outputs": [
    {
     "name": "stdout",
     "output_type": "stream",
     "text": [
      "[6 3 4 7 2 1 8 0 9 5]\n"
     ]
    }
   ],
   "source": [
    "B = np.random.permutation(np.arange(10))\n",
    "print(B)"
   ]
  },
  {
   "cell_type": "code",
   "execution_count": 33,
   "id": "91d3659b",
   "metadata": {},
   "outputs": [
    {
     "data": {
      "text/plain": [
       "24"
      ]
     },
     "execution_count": 33,
     "metadata": {},
     "output_type": "execute_result"
    }
   ],
   "source": [
    "np.random.randint(20,30)"
   ]
  },
  {
   "cell_type": "code",
   "execution_count": 35,
   "id": "50e3646f",
   "metadata": {},
   "outputs": [],
   "source": [
    "A = np.random.rand(1000)"
   ]
  },
  {
   "cell_type": "code",
   "execution_count": 41,
   "id": "ff640f59",
   "metadata": {},
   "outputs": [],
   "source": [
    "import matplotlib.pyplot as mp"
   ]
  },
  {
   "cell_type": "code",
   "execution_count": 44,
   "id": "011a995f",
   "metadata": {},
   "outputs": [
    {
     "data": {
      "text/plain": [
       "(array([ 7., 11.,  9.,  6.,  8., 12.,  8.,  8.,  8., 11.,  5.,  8.,  8.,\n",
       "         9., 11.,  8., 11., 10., 17., 10.,  3., 11., 15.,  8.,  9., 12.,\n",
       "        10.,  5.,  4.,  8.,  7., 10.,  6., 15., 10., 14.,  8.,  9.,  8.,\n",
       "        15., 14.,  8., 12.,  4., 17., 12.,  9.,  7., 14.,  9., 15.,  8.,\n",
       "        11., 14., 11., 10., 12., 17.,  6.,  7., 16.,  6.,  9., 10., 12.,\n",
       "         6.,  8.,  4., 12.,  6.,  9., 11., 12., 11.,  9., 11.,  8., 10.,\n",
       "        16., 11., 12.,  9.,  8., 17.,  9.,  7.,  8., 18., 10., 11., 17.,\n",
       "         7.,  4., 11.,  6., 13., 13., 13., 14.,  7.]),\n",
       " array([0.00286661, 0.01281444, 0.02276227, 0.0327101 , 0.04265794,\n",
       "        0.05260577, 0.0625536 , 0.07250143, 0.08244926, 0.09239709,\n",
       "        0.10234492, 0.11229276, 0.12224059, 0.13218842, 0.14213625,\n",
       "        0.15208408, 0.16203191, 0.17197974, 0.18192758, 0.19187541,\n",
       "        0.20182324, 0.21177107, 0.2217189 , 0.23166673, 0.24161456,\n",
       "        0.2515624 , 0.26151023, 0.27145806, 0.28140589, 0.29135372,\n",
       "        0.30130155, 0.31124938, 0.32119722, 0.33114505, 0.34109288,\n",
       "        0.35104071, 0.36098854, 0.37093637, 0.3808842 , 0.39083204,\n",
       "        0.40077987, 0.4107277 , 0.42067553, 0.43062336, 0.44057119,\n",
       "        0.45051902, 0.46046686, 0.47041469, 0.48036252, 0.49031035,\n",
       "        0.50025818, 0.51020601, 0.52015384, 0.53010168, 0.54004951,\n",
       "        0.54999734, 0.55994517, 0.569893  , 0.57984083, 0.58978866,\n",
       "        0.5997365 , 0.60968433, 0.61963216, 0.62957999, 0.63952782,\n",
       "        0.64947565, 0.65942348, 0.66937132, 0.67931915, 0.68926698,\n",
       "        0.69921481, 0.70916264, 0.71911047, 0.7290583 , 0.73900614,\n",
       "        0.74895397, 0.7589018 , 0.76884963, 0.77879746, 0.78874529,\n",
       "        0.79869312, 0.80864096, 0.81858879, 0.82853662, 0.83848445,\n",
       "        0.84843228, 0.85838011, 0.86832794, 0.87827578, 0.88822361,\n",
       "        0.89817144, 0.90811927, 0.9180671 , 0.92801493, 0.93796276,\n",
       "        0.9479106 , 0.95785843, 0.96780626, 0.97775409, 0.98770192,\n",
       "        0.99764975]),\n",
       " <BarContainer object of 100 artists>)"
      ]
     },
     "execution_count": 44,
     "metadata": {},
     "output_type": "execute_result"
    },
    {
     "data": {
      "image/png": "[encoded data removed]",
      "text/plain": [
       "<Figure size 640x480 with 1 Axes>"
      ]
     },
     "metadata": {},
     "output_type": "display_data"
    }
   ],
   "source": [
    "mp.hist(A,bins = 100)"
   ]
  },
  {
   "cell_type": "code",
   "execution_count": 47,
   "id": "bf1ca2b5",
   "metadata": {},
   "outputs": [
    {
     "data": {
      "text/plain": [
       "(array([0., 0., 0., 0., 0., 1., 0., 0., 0., 0.]),\n",
       " array([199.5, 199.6, 199.7, 199.8, 199.9, 200. , 200.1, 200.2, 200.3,\n",
       "        200.4, 200.5]),\n",
       " <BarContainer object of 10 artists>)"
      ]
     },
     "execution_count": 47,
     "metadata": {},
     "output_type": "execute_result"
    },
    {
     "data": {
      "image/png": "[encoded data removed]",
      "text/plain": [
       "<Figure size 640x480 with 1 Axes>"
      ]
     },
     "metadata": {},
     "output_type": "display_data"
    }
   ],
   "source": [
    "B = np.random.randn(1000)\n",
    "mp.hist(200)"
   ]
  },
  {
   "cell_type": "code",
   "execution_count": 56,
   "id": "0d68b895",
   "metadata": {},
   "outputs": [
    {
     "data": {
      "text/plain": [
       "(4, 25)"
      ]
     },
     "execution_count": 56,
     "metadata": {},
     "output_type": "execute_result"
    }
   ],
   "source": [
    "D = np.arange(100).reshape(4,25)\n",
    "D.shape"
   ]
  },
  {
   "cell_type": "markdown",
   "id": "3208dbfd",
   "metadata": {},
   "source": [
    "# Numpy(Slicing)\n"
   ]
  },
  {
   "cell_type": "code",
   "execution_count": 58,
   "id": "e12e99fd",
   "metadata": {},
   "outputs": [],
   "source": [
    "A  = np.arange(100)"
   ]
  },
  {
   "cell_type": "code",
   "execution_count": 60,
   "id": "78fa887c",
   "metadata": {},
   "outputs": [
    {
     "name": "stdout",
     "output_type": "stream",
     "text": [
      "[3 4 5 6 7 8 9]\n"
     ]
    }
   ],
   "source": [
    "b = A[3:10]    #3 bata suru hune print gardney upto 9\n",
    "print(b)"
   ]
  },
  {
   "cell_type": "code",
   "execution_count": 62,
   "id": "a9e83499",
   "metadata": {},
   "outputs": [],
   "source": [
    "b[0] = -1200"
   ]
  },
  {
   "cell_type": "code",
   "execution_count": 64,
   "id": "eedc2dbd",
   "metadata": {},
   "outputs": [
    {
     "data": {
      "text/plain": [
       "array([-1200,     4,     5,     6,     7,     8,     9])"
      ]
     },
     "execution_count": 64,
     "metadata": {},
     "output_type": "execute_result"
    }
   ],
   "source": [
    "b"
   ]
  },
  {
   "cell_type": "code",
   "execution_count": 66,
   "id": "41ce6b99",
   "metadata": {},
   "outputs": [
    {
     "data": {
      "text/plain": [
       "array([    0,     1,     2, -1200,     4,     5,     6,     7,     8,\n",
       "           9,    10,    11,    12,    13,    14,    15,    16,    17,\n",
       "          18,    19,    20,    21,    22,    23,    24,    25,    26,\n",
       "          27,    28,    29,    30,    31,    32,    33,    34,    35,\n",
       "          36,    37,    38,    39,    40,    41,    42,    43,    44,\n",
       "          45,    46,    47,    48,    49,    50,    51,    52,    53,\n",
       "          54,    55,    56,    57,    58,    59,    60,    61,    62,\n",
       "          63,    64,    65,    66,    67,    68,    69,    70,    71,\n",
       "          72,    73,    74,    75,    76,    77,    78,    79,    80,\n",
       "          81,    82,    83,    84,    85,    86,    87,    88,    89,\n",
       "          90,    91,    92,    93,    94,    95,    96,    97,    98,\n",
       "          99])"
      ]
     },
     "execution_count": 66,
     "metadata": {},
     "output_type": "execute_result"
    }
   ],
   "source": [
    "A\n"
   ]
  },
  {
   "cell_type": "code",
   "execution_count": 73,
   "id": "a61c1b8f",
   "metadata": {},
   "outputs": [
    {
     "name": "stdout",
     "output_type": "stream",
     "text": [
      "[    0     1     2 -1200     4     5     6     7     8     9    10    11\n",
      "    12    13    14    15    16    17    18    19    20    21    22    23\n",
      "    24    25    26    27    28    29    30    31    32    33    34    35\n",
      "    36    37    38    39    40    41    42    43    44    45    46    47\n",
      "    48    49    50    51    52    53    54    55    56    57    58    59\n",
      "    60    61    62    63    64    65    66    67    68    69    70    71\n",
      "    72    73    74    75    76    77    78    79    80    81    82    83\n",
      "    84    85    86    87    88    89    90    91    92    93    94    95\n",
      "    96    97    98    99]\n"
     ]
    }
   ],
   "source": [
    "b = A[3:10].copy()   #Effect is not seen\n",
    "print(A)"
   ]
  },
  {
   "cell_type": "code",
   "execution_count": 75,
   "id": "8e351f8d",
   "metadata": {},
   "outputs": [
    {
     "data": {
      "text/plain": [
       "array([ 0,  5, 10, 15, 20, 25, 30, 35, 40, 45, 50, 55, 60, 65, 70, 75, 80,\n",
       "       85, 90, 95])"
      ]
     },
     "execution_count": 75,
     "metadata": {},
     "output_type": "execute_result"
    }
   ],
   "source": [
    "A[::5]  #Start from the 1st indext and picsks every 5th element"
   ]
  },
  {
   "cell_type": "code",
   "execution_count": 77,
   "id": "4108c76c",
   "metadata": {},
   "outputs": [
    {
     "name": "stdout",
     "output_type": "stream",
     "text": [
      "[[ 9.  1.  1.  8.]\n",
      " [ 4.  7.  7.  7.]\n",
      " [ 8.  3.  3.  0.]\n",
      " [ 9.  0.  6. 10.]\n",
      " [ 6.  4.  4.  3.]]\n"
     ]
    }
   ],
   "source": [
    "A = np.round(10*np.random.rand(5,4))\n",
    "print(A)"
   ]
  },
  {
   "cell_type": "code",
   "execution_count": 79,
   "id": "60757449",
   "metadata": {},
   "outputs": [
    {
     "data": {
      "text/plain": [
       "7.0"
      ]
     },
     "execution_count": 79,
     "metadata": {},
     "output_type": "execute_result"
    }
   ],
   "source": [
    "A[1,2]"
   ]
  },
  {
   "cell_type": "code",
   "execution_count": 82,
   "id": "fb42b4c6",
   "metadata": {},
   "outputs": [
    {
     "data": {
      "text/plain": [
       "array([4., 7., 7., 7.])"
      ]
     },
     "execution_count": 82,
     "metadata": {},
     "output_type": "execute_result"
    }
   ],
   "source": [
    "A[1,:]  # To Access whole Second Row"
   ]
  },
  {
   "cell_type": "code",
   "execution_count": 84,
   "id": "82b775ae",
   "metadata": {},
   "outputs": [
    {
     "data": {
      "text/plain": [
       "array([[ 9.,  4.,  8.,  9.,  6.],\n",
       "       [ 1.,  7.,  3.,  0.,  4.],\n",
       "       [ 1.,  7.,  3.,  6.,  4.],\n",
       "       [ 8.,  7.,  0., 10.,  3.]])"
      ]
     },
     "execution_count": 84,
     "metadata": {},
     "output_type": "execute_result"
    }
   ],
   "source": [
    "A.T"
   ]
  },
  {
   "cell_type": "code",
   "execution_count": 86,
   "id": "26470d6e",
   "metadata": {},
   "outputs": [],
   "source": [
    "import numpy.linalg as la"
   ]
  },
  {
   "cell_type": "code",
   "execution_count": 88,
   "id": "fe5310f4",
   "metadata": {},
   "outputs": [
    {
     "data": {
      "text/plain": [
       "array([[ 0.1093819 ,  1.60421974, -1.71930648],\n",
       "       [ 3.52703796, -3.69094405,  3.07104752],\n",
       "       [-0.60125716,  0.54040084,  0.67449587]])"
      ]
     },
     "execution_count": 88,
     "metadata": {},
     "output_type": "execute_result"
    }
   ],
   "source": [
    "la.inv(np.random.rand(3,3))"
   ]
  },
  {
   "cell_type": "code",
   "execution_count": 90,
   "id": "36318b0f",
   "metadata": {},
   "outputs": [
    {
     "data": {
      "text/plain": [
       "array([[ 9.,  1.,  1.,  8.],\n",
       "       [ 4.,  7.,  7.,  7.],\n",
       "       [ 8.,  3.,  3.,  0.],\n",
       "       [ 9.,  0.,  6., 10.],\n",
       "       [ 6.,  4.,  4.,  3.]])"
      ]
     },
     "execution_count": 90,
     "metadata": {},
     "output_type": "execute_result"
    }
   ],
   "source": [
    "A"
   ]
  },
  {
   "cell_type": "code",
   "execution_count": 92,
   "id": "5d915456",
   "metadata": {},
   "outputs": [
    {
     "name": "stdout",
     "output_type": "stream",
     "text": [
      "[[ 4.  0.  1.  0.]\n",
      " [ 6.  1.  3.  3.]\n",
      " [ 8.  3.  4.  7.]\n",
      " [ 9.  4.  6.  8.]\n",
      " [ 9.  7.  7. 10.]]\n"
     ]
    }
   ],
   "source": [
    "A.sort(axis=0)\n",
    "print(A)"
   ]
  },
  {
   "cell_type": "markdown",
   "id": "488366e3",
   "metadata": {},
   "source": []
  },
  {
   "cell_type": "code",
   "execution_count": 95,
   "id": "f9a6b744",
   "metadata": {},
   "outputs": [],
   "source": [
    "A = np.round(10*np.random.rand(2,3))"
   ]
  },
  {
   "cell_type": "code",
   "execution_count": 97,
   "id": "a19ecb5d",
   "metadata": {},
   "outputs": [
    {
     "data": {
      "text/plain": [
       "array([[1., 2., 7.],\n",
       "       [4., 8., 3.]])"
      ]
     },
     "execution_count": 97,
     "metadata": {},
     "output_type": "execute_result"
    }
   ],
   "source": [
    "A"
   ]
  },
  {
   "cell_type": "code",
   "execution_count": 99,
   "id": "729dba44",
   "metadata": {},
   "outputs": [
    {
     "data": {
      "text/plain": [
       "array([[ 4.,  5., 10.],\n",
       "       [ 7., 11.,  6.]])"
      ]
     },
     "execution_count": 99,
     "metadata": {},
     "output_type": "execute_result"
    }
   ],
   "source": [
    "A+3"
   ]
  },
  {
   "cell_type": "code",
   "execution_count": 103,
   "id": "1c372fd1",
   "metadata": {},
   "outputs": [
    {
     "data": {
      "text/plain": [
       "array([[0],\n",
       "       [1]])"
      ]
     },
     "execution_count": 103,
     "metadata": {},
     "output_type": "execute_result"
    }
   ],
   "source": [
    "A = (np.arange(2).reshape(2,1))\n",
    "A"
   ]
  },
  {
   "cell_type": "code",
   "execution_count": 106,
   "id": "68fb34d6",
   "metadata": {},
   "outputs": [],
   "source": [
    "B = np.round(10*np.random.rand(2,2))"
   ]
  },
  {
   "cell_type": "code",
   "execution_count": 108,
   "id": "d11a8911",
   "metadata": {},
   "outputs": [
    {
     "data": {
      "text/plain": [
       "array([[8., 0.],\n",
       "       [1., 2.]])"
      ]
     },
     "execution_count": 108,
     "metadata": {},
     "output_type": "execute_result"
    }
   ],
   "source": [
    "B"
   ]
  },
  {
   "cell_type": "code",
   "execution_count": 110,
   "id": "eadf72bd",
   "metadata": {},
   "outputs": [],
   "source": [
    "C = np.hstack((A,B))"
   ]
  },
  {
   "cell_type": "code",
   "execution_count": 112,
   "id": "a247b9e6",
   "metadata": {},
   "outputs": [
    {
     "data": {
      "text/plain": [
       "array([[0., 8., 0.],\n",
       "       [1., 1., 2.]])"
      ]
     },
     "execution_count": 112,
     "metadata": {},
     "output_type": "execute_result"
    }
   ],
   "source": [
    "C"
   ]
  },
  {
   "cell_type": "code",
   "execution_count": null,
   "id": "e87dcd8e",
   "metadata": {},
   "outputs": [],
   "source": [
    "B = np.random.rand(100000)\n",
    "%timeit sum(B)\n",
    "%timeit np.sum(B)    #np.sum(B) = B.sum()"
   ]
  },
  {
   "cell_type": "code",
   "execution_count": null,
   "id": "cf301cf1",
   "metadata": {},
   "outputs": [],
   "source": []
  }
 ],
 "metadata": {
  "kernelspec": {
   "display_name": "Python 3 (ipykernel)",
   "language": "python",
   "name": "python3"
  },
  "language_info": {
   "codemirror_mode": {
    "name": "ipython",
    "version": 3
   },
   "file_extension": ".py",
   "mimetype": "text/x-python",
   "name": "python",
   "nbconvert_exporter": "python",
   "pygments_lexer": "ipython3",
   "version": "3.11.0"
  }
 },
 "nbformat": 4,
 "nbformat_minor": 5
}
